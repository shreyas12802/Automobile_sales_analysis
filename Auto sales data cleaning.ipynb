{
 "cells": [
  {
   "cell_type": "code",
   "execution_count": 1,
   "id": "267cc444",
   "metadata": {},
   "outputs": [],
   "source": [
    "import pandas as pd\n",
    "import matplotlib.pyplot as plt\n",
    "import seaborn as sns"
   ]
  },
  {
   "cell_type": "code",
   "execution_count": 2,
   "id": "58378d27",
   "metadata": {},
   "outputs": [],
   "source": [
    "df = pd.read_csv(\"Auto Sales data.csv\")"
   ]
  },
  {
   "cell_type": "code",
   "execution_count": 3,
   "id": "07abf830",
   "metadata": {},
   "outputs": [
    {
     "data": {
      "text/html": [
       "<div>\n",
       "<style scoped>\n",
       "    .dataframe tbody tr th:only-of-type {\n",
       "        vertical-align: middle;\n",
       "    }\n",
       "\n",
       "    .dataframe tbody tr th {\n",
       "        vertical-align: top;\n",
       "    }\n",
       "\n",
       "    .dataframe thead th {\n",
       "        text-align: right;\n",
       "    }\n",
       "</style>\n",
       "<table border=\"1\" class=\"dataframe\">\n",
       "  <thead>\n",
       "    <tr style=\"text-align: right;\">\n",
       "      <th></th>\n",
       "      <th>ORDERNUMBER</th>\n",
       "      <th>QUANTITYORDERED</th>\n",
       "      <th>PRICEEACH</th>\n",
       "      <th>ORDERLINENUMBER</th>\n",
       "      <th>SALES</th>\n",
       "      <th>ORDERDATE</th>\n",
       "      <th>DAYS_SINCE_LASTORDER</th>\n",
       "      <th>STATUS</th>\n",
       "      <th>PRODUCTLINE</th>\n",
       "      <th>MSRP</th>\n",
       "      <th>PRODUCTCODE</th>\n",
       "      <th>CUSTOMERNAME</th>\n",
       "      <th>PHONE</th>\n",
       "      <th>ADDRESSLINE1</th>\n",
       "      <th>CITY</th>\n",
       "      <th>POSTALCODE</th>\n",
       "      <th>COUNTRY</th>\n",
       "      <th>CONTACTLASTNAME</th>\n",
       "      <th>CONTACTFIRSTNAME</th>\n",
       "      <th>DEALSIZE</th>\n",
       "    </tr>\n",
       "  </thead>\n",
       "  <tbody>\n",
       "    <tr>\n",
       "      <th>0</th>\n",
       "      <td>10107</td>\n",
       "      <td>30</td>\n",
       "      <td>95.70</td>\n",
       "      <td>2</td>\n",
       "      <td>2871.00</td>\n",
       "      <td>24/02/2018</td>\n",
       "      <td>828</td>\n",
       "      <td>Shipped</td>\n",
       "      <td>Motorcycles</td>\n",
       "      <td>95</td>\n",
       "      <td>S10_1678</td>\n",
       "      <td>Land of Toys Inc.</td>\n",
       "      <td>2125557818</td>\n",
       "      <td>897 Long Airport Avenue</td>\n",
       "      <td>NYC</td>\n",
       "      <td>10022</td>\n",
       "      <td>USA</td>\n",
       "      <td>Yu</td>\n",
       "      <td>Kwai</td>\n",
       "      <td>Small</td>\n",
       "    </tr>\n",
       "    <tr>\n",
       "      <th>1</th>\n",
       "      <td>10121</td>\n",
       "      <td>34</td>\n",
       "      <td>81.35</td>\n",
       "      <td>5</td>\n",
       "      <td>2765.90</td>\n",
       "      <td>07/05/2018</td>\n",
       "      <td>757</td>\n",
       "      <td>Shipped</td>\n",
       "      <td>Motorcycles</td>\n",
       "      <td>95</td>\n",
       "      <td>S10_1678</td>\n",
       "      <td>Reims Collectables</td>\n",
       "      <td>26.47.1555</td>\n",
       "      <td>59 rue de l'Abbaye</td>\n",
       "      <td>Reims</td>\n",
       "      <td>51100</td>\n",
       "      <td>France</td>\n",
       "      <td>Henriot</td>\n",
       "      <td>Paul</td>\n",
       "      <td>Small</td>\n",
       "    </tr>\n",
       "    <tr>\n",
       "      <th>2</th>\n",
       "      <td>10134</td>\n",
       "      <td>41</td>\n",
       "      <td>94.74</td>\n",
       "      <td>2</td>\n",
       "      <td>3884.34</td>\n",
       "      <td>01/07/2018</td>\n",
       "      <td>703</td>\n",
       "      <td>Shipped</td>\n",
       "      <td>Motorcycles</td>\n",
       "      <td>95</td>\n",
       "      <td>S10_1678</td>\n",
       "      <td>Lyon Souveniers</td>\n",
       "      <td>+33 1 46 62 7555</td>\n",
       "      <td>27 rue du Colonel Pierre Avia</td>\n",
       "      <td>Paris</td>\n",
       "      <td>75508</td>\n",
       "      <td>France</td>\n",
       "      <td>Da Cunha</td>\n",
       "      <td>Daniel</td>\n",
       "      <td>Medium</td>\n",
       "    </tr>\n",
       "    <tr>\n",
       "      <th>3</th>\n",
       "      <td>10145</td>\n",
       "      <td>45</td>\n",
       "      <td>83.26</td>\n",
       "      <td>6</td>\n",
       "      <td>3746.70</td>\n",
       "      <td>25/08/2018</td>\n",
       "      <td>649</td>\n",
       "      <td>Shipped</td>\n",
       "      <td>Motorcycles</td>\n",
       "      <td>95</td>\n",
       "      <td>S10_1678</td>\n",
       "      <td>Toys4GrownUps.com</td>\n",
       "      <td>6265557265</td>\n",
       "      <td>78934 Hillside Dr.</td>\n",
       "      <td>Pasadena</td>\n",
       "      <td>90003</td>\n",
       "      <td>USA</td>\n",
       "      <td>Young</td>\n",
       "      <td>Julie</td>\n",
       "      <td>Medium</td>\n",
       "    </tr>\n",
       "    <tr>\n",
       "      <th>4</th>\n",
       "      <td>10168</td>\n",
       "      <td>36</td>\n",
       "      <td>96.66</td>\n",
       "      <td>1</td>\n",
       "      <td>3479.76</td>\n",
       "      <td>28/10/2018</td>\n",
       "      <td>586</td>\n",
       "      <td>Shipped</td>\n",
       "      <td>Motorcycles</td>\n",
       "      <td>95</td>\n",
       "      <td>S10_1678</td>\n",
       "      <td>Technics Stores Inc.</td>\n",
       "      <td>6505556809</td>\n",
       "      <td>9408 Furth Circle</td>\n",
       "      <td>Burlingame</td>\n",
       "      <td>94217</td>\n",
       "      <td>USA</td>\n",
       "      <td>Hirano</td>\n",
       "      <td>Juri</td>\n",
       "      <td>Medium</td>\n",
       "    </tr>\n",
       "  </tbody>\n",
       "</table>\n",
       "</div>"
      ],
      "text/plain": [
       "   ORDERNUMBER  QUANTITYORDERED  PRICEEACH  ORDERLINENUMBER    SALES  \\\n",
       "0        10107               30      95.70                2  2871.00   \n",
       "1        10121               34      81.35                5  2765.90   \n",
       "2        10134               41      94.74                2  3884.34   \n",
       "3        10145               45      83.26                6  3746.70   \n",
       "4        10168               36      96.66                1  3479.76   \n",
       "\n",
       "    ORDERDATE  DAYS_SINCE_LASTORDER   STATUS  PRODUCTLINE  MSRP PRODUCTCODE  \\\n",
       "0  24/02/2018                   828  Shipped  Motorcycles    95    S10_1678   \n",
       "1  07/05/2018                   757  Shipped  Motorcycles    95    S10_1678   \n",
       "2  01/07/2018                   703  Shipped  Motorcycles    95    S10_1678   \n",
       "3  25/08/2018                   649  Shipped  Motorcycles    95    S10_1678   \n",
       "4  28/10/2018                   586  Shipped  Motorcycles    95    S10_1678   \n",
       "\n",
       "           CUSTOMERNAME             PHONE                   ADDRESSLINE1  \\\n",
       "0     Land of Toys Inc.        2125557818        897 Long Airport Avenue   \n",
       "1    Reims Collectables        26.47.1555             59 rue de l'Abbaye   \n",
       "2       Lyon Souveniers  +33 1 46 62 7555  27 rue du Colonel Pierre Avia   \n",
       "3     Toys4GrownUps.com        6265557265             78934 Hillside Dr.   \n",
       "4  Technics Stores Inc.        6505556809              9408 Furth Circle   \n",
       "\n",
       "         CITY POSTALCODE COUNTRY CONTACTLASTNAME CONTACTFIRSTNAME DEALSIZE  \n",
       "0         NYC      10022     USA              Yu             Kwai    Small  \n",
       "1       Reims      51100  France         Henriot             Paul    Small  \n",
       "2       Paris      75508  France        Da Cunha           Daniel   Medium  \n",
       "3    Pasadena      90003     USA           Young            Julie   Medium  \n",
       "4  Burlingame      94217     USA          Hirano             Juri   Medium  "
      ]
     },
     "execution_count": 3,
     "metadata": {},
     "output_type": "execute_result"
    }
   ],
   "source": [
    "df.head()"
   ]
  },
  {
   "cell_type": "code",
   "execution_count": 4,
   "id": "8274a662",
   "metadata": {},
   "outputs": [
    {
     "data": {
      "text/plain": [
       "(2747, 20)"
      ]
     },
     "execution_count": 4,
     "metadata": {},
     "output_type": "execute_result"
    }
   ],
   "source": [
    "df.shape"
   ]
  },
  {
   "cell_type": "code",
   "execution_count": 5,
   "id": "30d99ae7",
   "metadata": {},
   "outputs": [
    {
     "name": "stdout",
     "output_type": "stream",
     "text": [
      "<class 'pandas.core.frame.DataFrame'>\n",
      "RangeIndex: 2747 entries, 0 to 2746\n",
      "Data columns (total 20 columns):\n",
      " #   Column                Non-Null Count  Dtype  \n",
      "---  ------                --------------  -----  \n",
      " 0   ORDERNUMBER           2747 non-null   int64  \n",
      " 1   QUANTITYORDERED       2747 non-null   int64  \n",
      " 2   PRICEEACH             2747 non-null   float64\n",
      " 3   ORDERLINENUMBER       2747 non-null   int64  \n",
      " 4   SALES                 2747 non-null   float64\n",
      " 5   ORDERDATE             2747 non-null   object \n",
      " 6   DAYS_SINCE_LASTORDER  2747 non-null   int64  \n",
      " 7   STATUS                2747 non-null   object \n",
      " 8   PRODUCTLINE           2747 non-null   object \n",
      " 9   MSRP                  2747 non-null   int64  \n",
      " 10  PRODUCTCODE           2747 non-null   object \n",
      " 11  CUSTOMERNAME          2747 non-null   object \n",
      " 12  PHONE                 2747 non-null   object \n",
      " 13  ADDRESSLINE1          2747 non-null   object \n",
      " 14  CITY                  2747 non-null   object \n",
      " 15  POSTALCODE            2747 non-null   object \n",
      " 16  COUNTRY               2747 non-null   object \n",
      " 17  CONTACTLASTNAME       2747 non-null   object \n",
      " 18  CONTACTFIRSTNAME      2747 non-null   object \n",
      " 19  DEALSIZE              2747 non-null   object \n",
      "dtypes: float64(2), int64(5), object(13)\n",
      "memory usage: 429.3+ KB\n"
     ]
    }
   ],
   "source": [
    "df.info()"
   ]
  },
  {
   "cell_type": "code",
   "execution_count": 6,
   "id": "2bfd4878",
   "metadata": {},
   "outputs": [
    {
     "data": {
      "text/html": [
       "<div>\n",
       "<style scoped>\n",
       "    .dataframe tbody tr th:only-of-type {\n",
       "        vertical-align: middle;\n",
       "    }\n",
       "\n",
       "    .dataframe tbody tr th {\n",
       "        vertical-align: top;\n",
       "    }\n",
       "\n",
       "    .dataframe thead th {\n",
       "        text-align: right;\n",
       "    }\n",
       "</style>\n",
       "<table border=\"1\" class=\"dataframe\">\n",
       "  <thead>\n",
       "    <tr style=\"text-align: right;\">\n",
       "      <th></th>\n",
       "      <th>ORDERNUMBER</th>\n",
       "      <th>QUANTITYORDERED</th>\n",
       "      <th>PRICEEACH</th>\n",
       "      <th>ORDERLINENUMBER</th>\n",
       "      <th>SALES</th>\n",
       "      <th>DAYS_SINCE_LASTORDER</th>\n",
       "      <th>MSRP</th>\n",
       "    </tr>\n",
       "  </thead>\n",
       "  <tbody>\n",
       "    <tr>\n",
       "      <th>count</th>\n",
       "      <td>2747.000000</td>\n",
       "      <td>2747.000000</td>\n",
       "      <td>2747.000000</td>\n",
       "      <td>2747.000000</td>\n",
       "      <td>2747.000000</td>\n",
       "      <td>2747.000000</td>\n",
       "      <td>2747.000000</td>\n",
       "    </tr>\n",
       "    <tr>\n",
       "      <th>mean</th>\n",
       "      <td>10259.761558</td>\n",
       "      <td>35.103021</td>\n",
       "      <td>101.098952</td>\n",
       "      <td>6.491081</td>\n",
       "      <td>3553.047583</td>\n",
       "      <td>1757.085912</td>\n",
       "      <td>100.691664</td>\n",
       "    </tr>\n",
       "    <tr>\n",
       "      <th>std</th>\n",
       "      <td>91.877521</td>\n",
       "      <td>9.762135</td>\n",
       "      <td>42.042549</td>\n",
       "      <td>4.230544</td>\n",
       "      <td>1838.953901</td>\n",
       "      <td>819.280576</td>\n",
       "      <td>40.114802</td>\n",
       "    </tr>\n",
       "    <tr>\n",
       "      <th>min</th>\n",
       "      <td>10100.000000</td>\n",
       "      <td>6.000000</td>\n",
       "      <td>26.880000</td>\n",
       "      <td>1.000000</td>\n",
       "      <td>482.130000</td>\n",
       "      <td>42.000000</td>\n",
       "      <td>33.000000</td>\n",
       "    </tr>\n",
       "    <tr>\n",
       "      <th>25%</th>\n",
       "      <td>10181.000000</td>\n",
       "      <td>27.000000</td>\n",
       "      <td>68.745000</td>\n",
       "      <td>3.000000</td>\n",
       "      <td>2204.350000</td>\n",
       "      <td>1077.000000</td>\n",
       "      <td>68.000000</td>\n",
       "    </tr>\n",
       "    <tr>\n",
       "      <th>50%</th>\n",
       "      <td>10264.000000</td>\n",
       "      <td>35.000000</td>\n",
       "      <td>95.550000</td>\n",
       "      <td>6.000000</td>\n",
       "      <td>3184.800000</td>\n",
       "      <td>1761.000000</td>\n",
       "      <td>99.000000</td>\n",
       "    </tr>\n",
       "    <tr>\n",
       "      <th>75%</th>\n",
       "      <td>10334.500000</td>\n",
       "      <td>43.000000</td>\n",
       "      <td>127.100000</td>\n",
       "      <td>9.000000</td>\n",
       "      <td>4503.095000</td>\n",
       "      <td>2436.500000</td>\n",
       "      <td>124.000000</td>\n",
       "    </tr>\n",
       "    <tr>\n",
       "      <th>max</th>\n",
       "      <td>10425.000000</td>\n",
       "      <td>97.000000</td>\n",
       "      <td>252.870000</td>\n",
       "      <td>18.000000</td>\n",
       "      <td>14082.800000</td>\n",
       "      <td>3562.000000</td>\n",
       "      <td>214.000000</td>\n",
       "    </tr>\n",
       "  </tbody>\n",
       "</table>\n",
       "</div>"
      ],
      "text/plain": [
       "        ORDERNUMBER  QUANTITYORDERED    PRICEEACH  ORDERLINENUMBER  \\\n",
       "count   2747.000000      2747.000000  2747.000000      2747.000000   \n",
       "mean   10259.761558        35.103021   101.098952         6.491081   \n",
       "std       91.877521         9.762135    42.042549         4.230544   \n",
       "min    10100.000000         6.000000    26.880000         1.000000   \n",
       "25%    10181.000000        27.000000    68.745000         3.000000   \n",
       "50%    10264.000000        35.000000    95.550000         6.000000   \n",
       "75%    10334.500000        43.000000   127.100000         9.000000   \n",
       "max    10425.000000        97.000000   252.870000        18.000000   \n",
       "\n",
       "              SALES  DAYS_SINCE_LASTORDER         MSRP  \n",
       "count   2747.000000           2747.000000  2747.000000  \n",
       "mean    3553.047583           1757.085912   100.691664  \n",
       "std     1838.953901            819.280576    40.114802  \n",
       "min      482.130000             42.000000    33.000000  \n",
       "25%     2204.350000           1077.000000    68.000000  \n",
       "50%     3184.800000           1761.000000    99.000000  \n",
       "75%     4503.095000           2436.500000   124.000000  \n",
       "max    14082.800000           3562.000000   214.000000  "
      ]
     },
     "execution_count": 6,
     "metadata": {},
     "output_type": "execute_result"
    }
   ],
   "source": [
    "df.describe()"
   ]
  },
  {
   "cell_type": "code",
   "execution_count": 7,
   "id": "6ea329af",
   "metadata": {
    "scrolled": true
   },
   "outputs": [
    {
     "data": {
      "text/plain": [
       "Index(['ORDERNUMBER', 'QUANTITYORDERED', 'PRICEEACH', 'ORDERLINENUMBER',\n",
       "       'SALES', 'ORDERDATE', 'DAYS_SINCE_LASTORDER', 'STATUS', 'PRODUCTLINE',\n",
       "       'MSRP', 'PRODUCTCODE', 'CUSTOMERNAME', 'PHONE', 'ADDRESSLINE1', 'CITY',\n",
       "       'POSTALCODE', 'COUNTRY', 'CONTACTLASTNAME', 'CONTACTFIRSTNAME',\n",
       "       'DEALSIZE'],\n",
       "      dtype='object')"
      ]
     },
     "execution_count": 7,
     "metadata": {},
     "output_type": "execute_result"
    }
   ],
   "source": [
    "df.columns"
   ]
  },
  {
   "cell_type": "code",
   "execution_count": 8,
   "id": "5f8c5550",
   "metadata": {},
   "outputs": [
    {
     "data": {
      "text/plain": [
       "ORDERNUMBER             0\n",
       "QUANTITYORDERED         0\n",
       "PRICEEACH               0\n",
       "ORDERLINENUMBER         0\n",
       "SALES                   0\n",
       "ORDERDATE               0\n",
       "DAYS_SINCE_LASTORDER    0\n",
       "STATUS                  0\n",
       "PRODUCTLINE             0\n",
       "MSRP                    0\n",
       "PRODUCTCODE             0\n",
       "CUSTOMERNAME            0\n",
       "PHONE                   0\n",
       "ADDRESSLINE1            0\n",
       "CITY                    0\n",
       "POSTALCODE              0\n",
       "COUNTRY                 0\n",
       "CONTACTLASTNAME         0\n",
       "CONTACTFIRSTNAME        0\n",
       "DEALSIZE                0\n",
       "dtype: int64"
      ]
     },
     "execution_count": 8,
     "metadata": {},
     "output_type": "execute_result"
    }
   ],
   "source": [
    "df.isna().sum()"
   ]
  },
  {
   "cell_type": "code",
   "execution_count": 9,
   "id": "63a608ae",
   "metadata": {},
   "outputs": [],
   "source": [
    "df[\"PHONE\"] = df[\"PHONE\"].str.replace('.', '')"
   ]
  },
  {
   "cell_type": "code",
   "execution_count": 10,
   "id": "0c8d8157",
   "metadata": {},
   "outputs": [
    {
     "data": {
      "text/plain": [
       "0             2125557818\n",
       "1               26471555\n",
       "2       +33 1 46 62 7555\n",
       "3             6265557265\n",
       "4             6505556809\n",
       "              ...       \n",
       "2742      (91) 555 94 44\n",
       "2743          981-443655\n",
       "2744      (91) 555 94 44\n",
       "2745            61776555\n",
       "2746          6175559555\n",
       "Name: PHONE, Length: 2747, dtype: object"
      ]
     },
     "execution_count": 10,
     "metadata": {},
     "output_type": "execute_result"
    }
   ],
   "source": [
    "df[\"PHONE\"]"
   ]
  },
  {
   "cell_type": "code",
   "execution_count": 11,
   "id": "ea30ab68",
   "metadata": {},
   "outputs": [],
   "source": [
    "df[\"PHONE\"] = df[\"PHONE\"].str.replace(' ', '')"
   ]
  },
  {
   "cell_type": "code",
   "execution_count": 12,
   "id": "3ad93054",
   "metadata": {},
   "outputs": [
    {
     "data": {
      "text/plain": [
       "0         2125557818\n",
       "1           26471555\n",
       "2       +33146627555\n",
       "3         6265557265\n",
       "4         6505556809\n",
       "            ...     \n",
       "2742     (91)5559444\n",
       "2743      981-443655\n",
       "2744     (91)5559444\n",
       "2745        61776555\n",
       "2746      6175559555\n",
       "Name: PHONE, Length: 2747, dtype: object"
      ]
     },
     "execution_count": 12,
     "metadata": {},
     "output_type": "execute_result"
    }
   ],
   "source": [
    "df[\"PHONE\"]"
   ]
  },
  {
   "cell_type": "code",
   "execution_count": 13,
   "id": "54aabd53",
   "metadata": {},
   "outputs": [],
   "source": [
    "df[\"PHONE\"] = df[\"PHONE\"].str.replace(\"+\",'')"
   ]
  },
  {
   "cell_type": "code",
   "execution_count": 14,
   "id": "98032f17",
   "metadata": {},
   "outputs": [],
   "source": [
    "df[\"PHONE\"] = df[\"PHONE\"].str.replace(\"()\",'')"
   ]
  },
  {
   "cell_type": "code",
   "execution_count": 15,
   "id": "537f443f",
   "metadata": {},
   "outputs": [
    {
     "data": {
      "text/plain": [
       "0        2125557818\n",
       "1          26471555\n",
       "2       33146627555\n",
       "3        6265557265\n",
       "4        6505556809\n",
       "           ...     \n",
       "2742    (91)5559444\n",
       "2743     981-443655\n",
       "2744    (91)5559444\n",
       "2745       61776555\n",
       "2746     6175559555\n",
       "Name: PHONE, Length: 2747, dtype: object"
      ]
     },
     "execution_count": 15,
     "metadata": {},
     "output_type": "execute_result"
    }
   ],
   "source": [
    "df[\"PHONE\"]"
   ]
  },
  {
   "cell_type": "code",
   "execution_count": 16,
   "id": "31c30b40",
   "metadata": {},
   "outputs": [],
   "source": [
    "df[\"PHONE\"] = df[\"PHONE\"].str.replace(\"(\",'')"
   ]
  },
  {
   "cell_type": "code",
   "execution_count": 17,
   "id": "f4f78bb2",
   "metadata": {},
   "outputs": [],
   "source": [
    "df[\"PHONE\"] = df[\"PHONE\"].str.replace(\")\",'')"
   ]
  },
  {
   "cell_type": "code",
   "execution_count": 18,
   "id": "f72c712c",
   "metadata": {},
   "outputs": [
    {
     "data": {
      "text/plain": [
       "0        2125557818\n",
       "1          26471555\n",
       "2       33146627555\n",
       "3        6265557265\n",
       "4        6505556809\n",
       "           ...     \n",
       "2742      915559444\n",
       "2743     981-443655\n",
       "2744      915559444\n",
       "2745       61776555\n",
       "2746     6175559555\n",
       "Name: PHONE, Length: 2747, dtype: object"
      ]
     },
     "execution_count": 18,
     "metadata": {},
     "output_type": "execute_result"
    }
   ],
   "source": [
    "df[\"PHONE\"]"
   ]
  },
  {
   "cell_type": "code",
   "execution_count": 19,
   "id": "b0dd1739",
   "metadata": {},
   "outputs": [],
   "source": [
    "df[\"PHONE\"] = df[\"PHONE\"].str.replace(\"-\",'')"
   ]
  },
  {
   "cell_type": "code",
   "execution_count": 20,
   "id": "7a47d6d4",
   "metadata": {},
   "outputs": [
    {
     "data": {
      "text/plain": [
       "0        2125557818\n",
       "1          26471555\n",
       "2       33146627555\n",
       "3        6265557265\n",
       "4        6505556809\n",
       "           ...     \n",
       "2742      915559444\n",
       "2743      981443655\n",
       "2744      915559444\n",
       "2745       61776555\n",
       "2746     6175559555\n",
       "Name: PHONE, Length: 2747, dtype: object"
      ]
     },
     "execution_count": 20,
     "metadata": {},
     "output_type": "execute_result"
    }
   ],
   "source": [
    "df[\"PHONE\"]"
   ]
  },
  {
   "cell_type": "code",
   "execution_count": 21,
   "id": "a801f6dd",
   "metadata": {},
   "outputs": [
    {
     "data": {
      "text/plain": [
       "array(['Small', 'Medium', 'Large'], dtype=object)"
      ]
     },
     "execution_count": 21,
     "metadata": {},
     "output_type": "execute_result"
    }
   ],
   "source": [
    "df[\"DEALSIZE\"].unique()"
   ]
  },
  {
   "cell_type": "code",
   "execution_count": 22,
   "id": "7ac81835",
   "metadata": {},
   "outputs": [
    {
     "data": {
      "text/html": [
       "<div>\n",
       "<style scoped>\n",
       "    .dataframe tbody tr th:only-of-type {\n",
       "        vertical-align: middle;\n",
       "    }\n",
       "\n",
       "    .dataframe tbody tr th {\n",
       "        vertical-align: top;\n",
       "    }\n",
       "\n",
       "    .dataframe thead th {\n",
       "        text-align: right;\n",
       "    }\n",
       "</style>\n",
       "<table border=\"1\" class=\"dataframe\">\n",
       "  <thead>\n",
       "    <tr style=\"text-align: right;\">\n",
       "      <th></th>\n",
       "      <th>ORDERNUMBER</th>\n",
       "      <th>QUANTITYORDERED</th>\n",
       "      <th>PRICEEACH</th>\n",
       "      <th>ORDERLINENUMBER</th>\n",
       "      <th>SALES</th>\n",
       "      <th>ORDERDATE</th>\n",
       "      <th>DAYS_SINCE_LASTORDER</th>\n",
       "      <th>STATUS</th>\n",
       "      <th>PRODUCTLINE</th>\n",
       "      <th>MSRP</th>\n",
       "      <th>PRODUCTCODE</th>\n",
       "      <th>CUSTOMERNAME</th>\n",
       "      <th>PHONE</th>\n",
       "      <th>ADDRESSLINE1</th>\n",
       "      <th>CITY</th>\n",
       "      <th>POSTALCODE</th>\n",
       "      <th>COUNTRY</th>\n",
       "      <th>CONTACTLASTNAME</th>\n",
       "      <th>CONTACTFIRSTNAME</th>\n",
       "      <th>DEALSIZE</th>\n",
       "    </tr>\n",
       "  </thead>\n",
       "  <tbody>\n",
       "    <tr>\n",
       "      <th>0</th>\n",
       "      <td>10107</td>\n",
       "      <td>30</td>\n",
       "      <td>95.70</td>\n",
       "      <td>2</td>\n",
       "      <td>2871.00</td>\n",
       "      <td>24/02/2018</td>\n",
       "      <td>828</td>\n",
       "      <td>Shipped</td>\n",
       "      <td>Motorcycles</td>\n",
       "      <td>95</td>\n",
       "      <td>S10_1678</td>\n",
       "      <td>Land of Toys Inc.</td>\n",
       "      <td>2125557818</td>\n",
       "      <td>897 Long Airport Avenue</td>\n",
       "      <td>NYC</td>\n",
       "      <td>10022</td>\n",
       "      <td>USA</td>\n",
       "      <td>Yu</td>\n",
       "      <td>Kwai</td>\n",
       "      <td>Small</td>\n",
       "    </tr>\n",
       "    <tr>\n",
       "      <th>1</th>\n",
       "      <td>10121</td>\n",
       "      <td>34</td>\n",
       "      <td>81.35</td>\n",
       "      <td>5</td>\n",
       "      <td>2765.90</td>\n",
       "      <td>07/05/2018</td>\n",
       "      <td>757</td>\n",
       "      <td>Shipped</td>\n",
       "      <td>Motorcycles</td>\n",
       "      <td>95</td>\n",
       "      <td>S10_1678</td>\n",
       "      <td>Reims Collectables</td>\n",
       "      <td>26471555</td>\n",
       "      <td>59 rue de l'Abbaye</td>\n",
       "      <td>Reims</td>\n",
       "      <td>51100</td>\n",
       "      <td>France</td>\n",
       "      <td>Henriot</td>\n",
       "      <td>Paul</td>\n",
       "      <td>Small</td>\n",
       "    </tr>\n",
       "    <tr>\n",
       "      <th>2</th>\n",
       "      <td>10134</td>\n",
       "      <td>41</td>\n",
       "      <td>94.74</td>\n",
       "      <td>2</td>\n",
       "      <td>3884.34</td>\n",
       "      <td>01/07/2018</td>\n",
       "      <td>703</td>\n",
       "      <td>Shipped</td>\n",
       "      <td>Motorcycles</td>\n",
       "      <td>95</td>\n",
       "      <td>S10_1678</td>\n",
       "      <td>Lyon Souveniers</td>\n",
       "      <td>33146627555</td>\n",
       "      <td>27 rue du Colonel Pierre Avia</td>\n",
       "      <td>Paris</td>\n",
       "      <td>75508</td>\n",
       "      <td>France</td>\n",
       "      <td>Da Cunha</td>\n",
       "      <td>Daniel</td>\n",
       "      <td>Medium</td>\n",
       "    </tr>\n",
       "    <tr>\n",
       "      <th>3</th>\n",
       "      <td>10145</td>\n",
       "      <td>45</td>\n",
       "      <td>83.26</td>\n",
       "      <td>6</td>\n",
       "      <td>3746.70</td>\n",
       "      <td>25/08/2018</td>\n",
       "      <td>649</td>\n",
       "      <td>Shipped</td>\n",
       "      <td>Motorcycles</td>\n",
       "      <td>95</td>\n",
       "      <td>S10_1678</td>\n",
       "      <td>Toys4GrownUps.com</td>\n",
       "      <td>6265557265</td>\n",
       "      <td>78934 Hillside Dr.</td>\n",
       "      <td>Pasadena</td>\n",
       "      <td>90003</td>\n",
       "      <td>USA</td>\n",
       "      <td>Young</td>\n",
       "      <td>Julie</td>\n",
       "      <td>Medium</td>\n",
       "    </tr>\n",
       "    <tr>\n",
       "      <th>4</th>\n",
       "      <td>10168</td>\n",
       "      <td>36</td>\n",
       "      <td>96.66</td>\n",
       "      <td>1</td>\n",
       "      <td>3479.76</td>\n",
       "      <td>28/10/2018</td>\n",
       "      <td>586</td>\n",
       "      <td>Shipped</td>\n",
       "      <td>Motorcycles</td>\n",
       "      <td>95</td>\n",
       "      <td>S10_1678</td>\n",
       "      <td>Technics Stores Inc.</td>\n",
       "      <td>6505556809</td>\n",
       "      <td>9408 Furth Circle</td>\n",
       "      <td>Burlingame</td>\n",
       "      <td>94217</td>\n",
       "      <td>USA</td>\n",
       "      <td>Hirano</td>\n",
       "      <td>Juri</td>\n",
       "      <td>Medium</td>\n",
       "    </tr>\n",
       "    <tr>\n",
       "      <th>...</th>\n",
       "      <td>...</td>\n",
       "      <td>...</td>\n",
       "      <td>...</td>\n",
       "      <td>...</td>\n",
       "      <td>...</td>\n",
       "      <td>...</td>\n",
       "      <td>...</td>\n",
       "      <td>...</td>\n",
       "      <td>...</td>\n",
       "      <td>...</td>\n",
       "      <td>...</td>\n",
       "      <td>...</td>\n",
       "      <td>...</td>\n",
       "      <td>...</td>\n",
       "      <td>...</td>\n",
       "      <td>...</td>\n",
       "      <td>...</td>\n",
       "      <td>...</td>\n",
       "      <td>...</td>\n",
       "      <td>...</td>\n",
       "    </tr>\n",
       "    <tr>\n",
       "      <th>2742</th>\n",
       "      <td>10350</td>\n",
       "      <td>20</td>\n",
       "      <td>112.22</td>\n",
       "      <td>15</td>\n",
       "      <td>2244.40</td>\n",
       "      <td>02/12/2019</td>\n",
       "      <td>2924</td>\n",
       "      <td>Shipped</td>\n",
       "      <td>Ships</td>\n",
       "      <td>54</td>\n",
       "      <td>S72_3212</td>\n",
       "      <td>Euro Shopping Channel</td>\n",
       "      <td>915559444</td>\n",
       "      <td>C/ Moralzarzal, 86</td>\n",
       "      <td>Madrid</td>\n",
       "      <td>28034</td>\n",
       "      <td>Spain</td>\n",
       "      <td>Freyre</td>\n",
       "      <td>Diego</td>\n",
       "      <td>Small</td>\n",
       "    </tr>\n",
       "    <tr>\n",
       "      <th>2743</th>\n",
       "      <td>10373</td>\n",
       "      <td>29</td>\n",
       "      <td>137.19</td>\n",
       "      <td>1</td>\n",
       "      <td>3978.51</td>\n",
       "      <td>31/01/2020</td>\n",
       "      <td>2865</td>\n",
       "      <td>Shipped</td>\n",
       "      <td>Ships</td>\n",
       "      <td>54</td>\n",
       "      <td>S72_3212</td>\n",
       "      <td>Oulu Toy Supplies, Inc.</td>\n",
       "      <td>981443655</td>\n",
       "      <td>Torikatu 38</td>\n",
       "      <td>Oulu</td>\n",
       "      <td>90110</td>\n",
       "      <td>Finland</td>\n",
       "      <td>Koskitalo</td>\n",
       "      <td>Pirkko</td>\n",
       "      <td>Medium</td>\n",
       "    </tr>\n",
       "    <tr>\n",
       "      <th>2744</th>\n",
       "      <td>10386</td>\n",
       "      <td>43</td>\n",
       "      <td>125.99</td>\n",
       "      <td>4</td>\n",
       "      <td>5417.57</td>\n",
       "      <td>01/03/2020</td>\n",
       "      <td>2836</td>\n",
       "      <td>Resolved</td>\n",
       "      <td>Ships</td>\n",
       "      <td>54</td>\n",
       "      <td>S72_3212</td>\n",
       "      <td>Euro Shopping Channel</td>\n",
       "      <td>915559444</td>\n",
       "      <td>C/ Moralzarzal, 86</td>\n",
       "      <td>Madrid</td>\n",
       "      <td>28034</td>\n",
       "      <td>Spain</td>\n",
       "      <td>Freyre</td>\n",
       "      <td>Diego</td>\n",
       "      <td>Medium</td>\n",
       "    </tr>\n",
       "    <tr>\n",
       "      <th>2745</th>\n",
       "      <td>10397</td>\n",
       "      <td>34</td>\n",
       "      <td>62.24</td>\n",
       "      <td>1</td>\n",
       "      <td>2116.16</td>\n",
       "      <td>28/03/2020</td>\n",
       "      <td>2810</td>\n",
       "      <td>Shipped</td>\n",
       "      <td>Ships</td>\n",
       "      <td>54</td>\n",
       "      <td>S72_3212</td>\n",
       "      <td>Alpha Cognac</td>\n",
       "      <td>61776555</td>\n",
       "      <td>1 rue Alsace-Lorraine</td>\n",
       "      <td>Toulouse</td>\n",
       "      <td>31000</td>\n",
       "      <td>France</td>\n",
       "      <td>Roulet</td>\n",
       "      <td>Annette</td>\n",
       "      <td>Small</td>\n",
       "    </tr>\n",
       "    <tr>\n",
       "      <th>2746</th>\n",
       "      <td>10414</td>\n",
       "      <td>47</td>\n",
       "      <td>65.52</td>\n",
       "      <td>9</td>\n",
       "      <td>3079.44</td>\n",
       "      <td>06/05/2020</td>\n",
       "      <td>2772</td>\n",
       "      <td>On Hold</td>\n",
       "      <td>Ships</td>\n",
       "      <td>54</td>\n",
       "      <td>S72_3212</td>\n",
       "      <td>Gifts4AllAges.com</td>\n",
       "      <td>6175559555</td>\n",
       "      <td>8616 Spinnaker Dr.</td>\n",
       "      <td>Boston</td>\n",
       "      <td>51003</td>\n",
       "      <td>USA</td>\n",
       "      <td>Yoshido</td>\n",
       "      <td>Juri</td>\n",
       "      <td>Medium</td>\n",
       "    </tr>\n",
       "  </tbody>\n",
       "</table>\n",
       "<p>2747 rows × 20 columns</p>\n",
       "</div>"
      ],
      "text/plain": [
       "      ORDERNUMBER  QUANTITYORDERED  PRICEEACH  ORDERLINENUMBER    SALES  \\\n",
       "0           10107               30      95.70                2  2871.00   \n",
       "1           10121               34      81.35                5  2765.90   \n",
       "2           10134               41      94.74                2  3884.34   \n",
       "3           10145               45      83.26                6  3746.70   \n",
       "4           10168               36      96.66                1  3479.76   \n",
       "...           ...              ...        ...              ...      ...   \n",
       "2742        10350               20     112.22               15  2244.40   \n",
       "2743        10373               29     137.19                1  3978.51   \n",
       "2744        10386               43     125.99                4  5417.57   \n",
       "2745        10397               34      62.24                1  2116.16   \n",
       "2746        10414               47      65.52                9  3079.44   \n",
       "\n",
       "       ORDERDATE  DAYS_SINCE_LASTORDER    STATUS  PRODUCTLINE  MSRP  \\\n",
       "0     24/02/2018                   828   Shipped  Motorcycles    95   \n",
       "1     07/05/2018                   757   Shipped  Motorcycles    95   \n",
       "2     01/07/2018                   703   Shipped  Motorcycles    95   \n",
       "3     25/08/2018                   649   Shipped  Motorcycles    95   \n",
       "4     28/10/2018                   586   Shipped  Motorcycles    95   \n",
       "...          ...                   ...       ...          ...   ...   \n",
       "2742  02/12/2019                  2924   Shipped        Ships    54   \n",
       "2743  31/01/2020                  2865   Shipped        Ships    54   \n",
       "2744  01/03/2020                  2836  Resolved        Ships    54   \n",
       "2745  28/03/2020                  2810   Shipped        Ships    54   \n",
       "2746  06/05/2020                  2772   On Hold        Ships    54   \n",
       "\n",
       "     PRODUCTCODE             CUSTOMERNAME        PHONE  \\\n",
       "0       S10_1678        Land of Toys Inc.   2125557818   \n",
       "1       S10_1678       Reims Collectables     26471555   \n",
       "2       S10_1678          Lyon Souveniers  33146627555   \n",
       "3       S10_1678        Toys4GrownUps.com   6265557265   \n",
       "4       S10_1678     Technics Stores Inc.   6505556809   \n",
       "...          ...                      ...          ...   \n",
       "2742    S72_3212    Euro Shopping Channel    915559444   \n",
       "2743    S72_3212  Oulu Toy Supplies, Inc.    981443655   \n",
       "2744    S72_3212    Euro Shopping Channel    915559444   \n",
       "2745    S72_3212             Alpha Cognac     61776555   \n",
       "2746    S72_3212        Gifts4AllAges.com   6175559555   \n",
       "\n",
       "                       ADDRESSLINE1        CITY POSTALCODE  COUNTRY  \\\n",
       "0           897 Long Airport Avenue         NYC      10022      USA   \n",
       "1                59 rue de l'Abbaye       Reims      51100   France   \n",
       "2     27 rue du Colonel Pierre Avia       Paris      75508   France   \n",
       "3                78934 Hillside Dr.    Pasadena      90003      USA   \n",
       "4                 9408 Furth Circle  Burlingame      94217      USA   \n",
       "...                             ...         ...        ...      ...   \n",
       "2742             C/ Moralzarzal, 86      Madrid      28034    Spain   \n",
       "2743                    Torikatu 38        Oulu      90110  Finland   \n",
       "2744             C/ Moralzarzal, 86      Madrid      28034    Spain   \n",
       "2745          1 rue Alsace-Lorraine    Toulouse      31000   France   \n",
       "2746             8616 Spinnaker Dr.      Boston      51003      USA   \n",
       "\n",
       "     CONTACTLASTNAME CONTACTFIRSTNAME DEALSIZE  \n",
       "0                 Yu             Kwai    Small  \n",
       "1            Henriot             Paul    Small  \n",
       "2           Da Cunha           Daniel   Medium  \n",
       "3              Young            Julie   Medium  \n",
       "4             Hirano             Juri   Medium  \n",
       "...              ...              ...      ...  \n",
       "2742          Freyre            Diego    Small  \n",
       "2743       Koskitalo           Pirkko   Medium  \n",
       "2744          Freyre            Diego   Medium  \n",
       "2745          Roulet          Annette    Small  \n",
       "2746         Yoshido             Juri   Medium  \n",
       "\n",
       "[2747 rows x 20 columns]"
      ]
     },
     "execution_count": 22,
     "metadata": {},
     "output_type": "execute_result"
    }
   ],
   "source": [
    "df"
   ]
  },
  {
   "cell_type": "code",
   "execution_count": 23,
   "id": "4d1b4d94",
   "metadata": {},
   "outputs": [
    {
     "name": "stderr",
     "output_type": "stream",
     "text": [
      "C:\\Users\\User\\AppData\\Local\\Temp\\ipykernel_4140\\2445255821.py:1: UserWarning: Parsing dates in %d/%m/%Y format when dayfirst=False (the default) was specified. Pass `dayfirst=True` or specify a format to silence this warning.\n",
      "  df['ORDERDATE'] = pd.to_datetime(df['ORDERDATE'])\n"
     ]
    }
   ],
   "source": [
    "df['ORDERDATE'] = pd.to_datetime(df['ORDERDATE'])\n",
    "df['MONTH'] = df['ORDERDATE'].dt.strftime('%B')\n",
    "df['YEAR'] = df['ORDERDATE'].dt.year\n",
    "df[\"DAY\"] = df['ORDERDATE'].dt.strftime('%A')"
   ]
  },
  {
   "cell_type": "code",
   "execution_count": 24,
   "id": "4218dd2c",
   "metadata": {},
   "outputs": [
    {
     "data": {
      "text/html": [
       "<div>\n",
       "<style scoped>\n",
       "    .dataframe tbody tr th:only-of-type {\n",
       "        vertical-align: middle;\n",
       "    }\n",
       "\n",
       "    .dataframe tbody tr th {\n",
       "        vertical-align: top;\n",
       "    }\n",
       "\n",
       "    .dataframe thead th {\n",
       "        text-align: right;\n",
       "    }\n",
       "</style>\n",
       "<table border=\"1\" class=\"dataframe\">\n",
       "  <thead>\n",
       "    <tr style=\"text-align: right;\">\n",
       "      <th></th>\n",
       "      <th>ORDERNUMBER</th>\n",
       "      <th>QUANTITYORDERED</th>\n",
       "      <th>PRICEEACH</th>\n",
       "      <th>ORDERLINENUMBER</th>\n",
       "      <th>SALES</th>\n",
       "      <th>ORDERDATE</th>\n",
       "      <th>DAYS_SINCE_LASTORDER</th>\n",
       "      <th>STATUS</th>\n",
       "      <th>PRODUCTLINE</th>\n",
       "      <th>MSRP</th>\n",
       "      <th>...</th>\n",
       "      <th>ADDRESSLINE1</th>\n",
       "      <th>CITY</th>\n",
       "      <th>POSTALCODE</th>\n",
       "      <th>COUNTRY</th>\n",
       "      <th>CONTACTLASTNAME</th>\n",
       "      <th>CONTACTFIRSTNAME</th>\n",
       "      <th>DEALSIZE</th>\n",
       "      <th>MONTH</th>\n",
       "      <th>YEAR</th>\n",
       "      <th>DAY</th>\n",
       "    </tr>\n",
       "  </thead>\n",
       "  <tbody>\n",
       "    <tr>\n",
       "      <th>0</th>\n",
       "      <td>10107</td>\n",
       "      <td>30</td>\n",
       "      <td>95.70</td>\n",
       "      <td>2</td>\n",
       "      <td>2871.00</td>\n",
       "      <td>2018-02-24</td>\n",
       "      <td>828</td>\n",
       "      <td>Shipped</td>\n",
       "      <td>Motorcycles</td>\n",
       "      <td>95</td>\n",
       "      <td>...</td>\n",
       "      <td>897 Long Airport Avenue</td>\n",
       "      <td>NYC</td>\n",
       "      <td>10022</td>\n",
       "      <td>USA</td>\n",
       "      <td>Yu</td>\n",
       "      <td>Kwai</td>\n",
       "      <td>Small</td>\n",
       "      <td>February</td>\n",
       "      <td>2018</td>\n",
       "      <td>Saturday</td>\n",
       "    </tr>\n",
       "    <tr>\n",
       "      <th>1</th>\n",
       "      <td>10121</td>\n",
       "      <td>34</td>\n",
       "      <td>81.35</td>\n",
       "      <td>5</td>\n",
       "      <td>2765.90</td>\n",
       "      <td>2018-05-07</td>\n",
       "      <td>757</td>\n",
       "      <td>Shipped</td>\n",
       "      <td>Motorcycles</td>\n",
       "      <td>95</td>\n",
       "      <td>...</td>\n",
       "      <td>59 rue de l'Abbaye</td>\n",
       "      <td>Reims</td>\n",
       "      <td>51100</td>\n",
       "      <td>France</td>\n",
       "      <td>Henriot</td>\n",
       "      <td>Paul</td>\n",
       "      <td>Small</td>\n",
       "      <td>May</td>\n",
       "      <td>2018</td>\n",
       "      <td>Monday</td>\n",
       "    </tr>\n",
       "    <tr>\n",
       "      <th>2</th>\n",
       "      <td>10134</td>\n",
       "      <td>41</td>\n",
       "      <td>94.74</td>\n",
       "      <td>2</td>\n",
       "      <td>3884.34</td>\n",
       "      <td>2018-07-01</td>\n",
       "      <td>703</td>\n",
       "      <td>Shipped</td>\n",
       "      <td>Motorcycles</td>\n",
       "      <td>95</td>\n",
       "      <td>...</td>\n",
       "      <td>27 rue du Colonel Pierre Avia</td>\n",
       "      <td>Paris</td>\n",
       "      <td>75508</td>\n",
       "      <td>France</td>\n",
       "      <td>Da Cunha</td>\n",
       "      <td>Daniel</td>\n",
       "      <td>Medium</td>\n",
       "      <td>July</td>\n",
       "      <td>2018</td>\n",
       "      <td>Sunday</td>\n",
       "    </tr>\n",
       "    <tr>\n",
       "      <th>3</th>\n",
       "      <td>10145</td>\n",
       "      <td>45</td>\n",
       "      <td>83.26</td>\n",
       "      <td>6</td>\n",
       "      <td>3746.70</td>\n",
       "      <td>2018-08-25</td>\n",
       "      <td>649</td>\n",
       "      <td>Shipped</td>\n",
       "      <td>Motorcycles</td>\n",
       "      <td>95</td>\n",
       "      <td>...</td>\n",
       "      <td>78934 Hillside Dr.</td>\n",
       "      <td>Pasadena</td>\n",
       "      <td>90003</td>\n",
       "      <td>USA</td>\n",
       "      <td>Young</td>\n",
       "      <td>Julie</td>\n",
       "      <td>Medium</td>\n",
       "      <td>August</td>\n",
       "      <td>2018</td>\n",
       "      <td>Saturday</td>\n",
       "    </tr>\n",
       "    <tr>\n",
       "      <th>4</th>\n",
       "      <td>10168</td>\n",
       "      <td>36</td>\n",
       "      <td>96.66</td>\n",
       "      <td>1</td>\n",
       "      <td>3479.76</td>\n",
       "      <td>2018-10-28</td>\n",
       "      <td>586</td>\n",
       "      <td>Shipped</td>\n",
       "      <td>Motorcycles</td>\n",
       "      <td>95</td>\n",
       "      <td>...</td>\n",
       "      <td>9408 Furth Circle</td>\n",
       "      <td>Burlingame</td>\n",
       "      <td>94217</td>\n",
       "      <td>USA</td>\n",
       "      <td>Hirano</td>\n",
       "      <td>Juri</td>\n",
       "      <td>Medium</td>\n",
       "      <td>October</td>\n",
       "      <td>2018</td>\n",
       "      <td>Sunday</td>\n",
       "    </tr>\n",
       "    <tr>\n",
       "      <th>...</th>\n",
       "      <td>...</td>\n",
       "      <td>...</td>\n",
       "      <td>...</td>\n",
       "      <td>...</td>\n",
       "      <td>...</td>\n",
       "      <td>...</td>\n",
       "      <td>...</td>\n",
       "      <td>...</td>\n",
       "      <td>...</td>\n",
       "      <td>...</td>\n",
       "      <td>...</td>\n",
       "      <td>...</td>\n",
       "      <td>...</td>\n",
       "      <td>...</td>\n",
       "      <td>...</td>\n",
       "      <td>...</td>\n",
       "      <td>...</td>\n",
       "      <td>...</td>\n",
       "      <td>...</td>\n",
       "      <td>...</td>\n",
       "      <td>...</td>\n",
       "    </tr>\n",
       "    <tr>\n",
       "      <th>2742</th>\n",
       "      <td>10350</td>\n",
       "      <td>20</td>\n",
       "      <td>112.22</td>\n",
       "      <td>15</td>\n",
       "      <td>2244.40</td>\n",
       "      <td>2019-12-02</td>\n",
       "      <td>2924</td>\n",
       "      <td>Shipped</td>\n",
       "      <td>Ships</td>\n",
       "      <td>54</td>\n",
       "      <td>...</td>\n",
       "      <td>C/ Moralzarzal, 86</td>\n",
       "      <td>Madrid</td>\n",
       "      <td>28034</td>\n",
       "      <td>Spain</td>\n",
       "      <td>Freyre</td>\n",
       "      <td>Diego</td>\n",
       "      <td>Small</td>\n",
       "      <td>December</td>\n",
       "      <td>2019</td>\n",
       "      <td>Monday</td>\n",
       "    </tr>\n",
       "    <tr>\n",
       "      <th>2743</th>\n",
       "      <td>10373</td>\n",
       "      <td>29</td>\n",
       "      <td>137.19</td>\n",
       "      <td>1</td>\n",
       "      <td>3978.51</td>\n",
       "      <td>2020-01-31</td>\n",
       "      <td>2865</td>\n",
       "      <td>Shipped</td>\n",
       "      <td>Ships</td>\n",
       "      <td>54</td>\n",
       "      <td>...</td>\n",
       "      <td>Torikatu 38</td>\n",
       "      <td>Oulu</td>\n",
       "      <td>90110</td>\n",
       "      <td>Finland</td>\n",
       "      <td>Koskitalo</td>\n",
       "      <td>Pirkko</td>\n",
       "      <td>Medium</td>\n",
       "      <td>January</td>\n",
       "      <td>2020</td>\n",
       "      <td>Friday</td>\n",
       "    </tr>\n",
       "    <tr>\n",
       "      <th>2744</th>\n",
       "      <td>10386</td>\n",
       "      <td>43</td>\n",
       "      <td>125.99</td>\n",
       "      <td>4</td>\n",
       "      <td>5417.57</td>\n",
       "      <td>2020-03-01</td>\n",
       "      <td>2836</td>\n",
       "      <td>Resolved</td>\n",
       "      <td>Ships</td>\n",
       "      <td>54</td>\n",
       "      <td>...</td>\n",
       "      <td>C/ Moralzarzal, 86</td>\n",
       "      <td>Madrid</td>\n",
       "      <td>28034</td>\n",
       "      <td>Spain</td>\n",
       "      <td>Freyre</td>\n",
       "      <td>Diego</td>\n",
       "      <td>Medium</td>\n",
       "      <td>March</td>\n",
       "      <td>2020</td>\n",
       "      <td>Sunday</td>\n",
       "    </tr>\n",
       "    <tr>\n",
       "      <th>2745</th>\n",
       "      <td>10397</td>\n",
       "      <td>34</td>\n",
       "      <td>62.24</td>\n",
       "      <td>1</td>\n",
       "      <td>2116.16</td>\n",
       "      <td>2020-03-28</td>\n",
       "      <td>2810</td>\n",
       "      <td>Shipped</td>\n",
       "      <td>Ships</td>\n",
       "      <td>54</td>\n",
       "      <td>...</td>\n",
       "      <td>1 rue Alsace-Lorraine</td>\n",
       "      <td>Toulouse</td>\n",
       "      <td>31000</td>\n",
       "      <td>France</td>\n",
       "      <td>Roulet</td>\n",
       "      <td>Annette</td>\n",
       "      <td>Small</td>\n",
       "      <td>March</td>\n",
       "      <td>2020</td>\n",
       "      <td>Saturday</td>\n",
       "    </tr>\n",
       "    <tr>\n",
       "      <th>2746</th>\n",
       "      <td>10414</td>\n",
       "      <td>47</td>\n",
       "      <td>65.52</td>\n",
       "      <td>9</td>\n",
       "      <td>3079.44</td>\n",
       "      <td>2020-05-06</td>\n",
       "      <td>2772</td>\n",
       "      <td>On Hold</td>\n",
       "      <td>Ships</td>\n",
       "      <td>54</td>\n",
       "      <td>...</td>\n",
       "      <td>8616 Spinnaker Dr.</td>\n",
       "      <td>Boston</td>\n",
       "      <td>51003</td>\n",
       "      <td>USA</td>\n",
       "      <td>Yoshido</td>\n",
       "      <td>Juri</td>\n",
       "      <td>Medium</td>\n",
       "      <td>May</td>\n",
       "      <td>2020</td>\n",
       "      <td>Wednesday</td>\n",
       "    </tr>\n",
       "  </tbody>\n",
       "</table>\n",
       "<p>2747 rows × 23 columns</p>\n",
       "</div>"
      ],
      "text/plain": [
       "      ORDERNUMBER  QUANTITYORDERED  PRICEEACH  ORDERLINENUMBER    SALES  \\\n",
       "0           10107               30      95.70                2  2871.00   \n",
       "1           10121               34      81.35                5  2765.90   \n",
       "2           10134               41      94.74                2  3884.34   \n",
       "3           10145               45      83.26                6  3746.70   \n",
       "4           10168               36      96.66                1  3479.76   \n",
       "...           ...              ...        ...              ...      ...   \n",
       "2742        10350               20     112.22               15  2244.40   \n",
       "2743        10373               29     137.19                1  3978.51   \n",
       "2744        10386               43     125.99                4  5417.57   \n",
       "2745        10397               34      62.24                1  2116.16   \n",
       "2746        10414               47      65.52                9  3079.44   \n",
       "\n",
       "      ORDERDATE  DAYS_SINCE_LASTORDER    STATUS  PRODUCTLINE  MSRP  ...  \\\n",
       "0    2018-02-24                   828   Shipped  Motorcycles    95  ...   \n",
       "1    2018-05-07                   757   Shipped  Motorcycles    95  ...   \n",
       "2    2018-07-01                   703   Shipped  Motorcycles    95  ...   \n",
       "3    2018-08-25                   649   Shipped  Motorcycles    95  ...   \n",
       "4    2018-10-28                   586   Shipped  Motorcycles    95  ...   \n",
       "...         ...                   ...       ...          ...   ...  ...   \n",
       "2742 2019-12-02                  2924   Shipped        Ships    54  ...   \n",
       "2743 2020-01-31                  2865   Shipped        Ships    54  ...   \n",
       "2744 2020-03-01                  2836  Resolved        Ships    54  ...   \n",
       "2745 2020-03-28                  2810   Shipped        Ships    54  ...   \n",
       "2746 2020-05-06                  2772   On Hold        Ships    54  ...   \n",
       "\n",
       "                       ADDRESSLINE1        CITY POSTALCODE  COUNTRY  \\\n",
       "0           897 Long Airport Avenue         NYC      10022      USA   \n",
       "1                59 rue de l'Abbaye       Reims      51100   France   \n",
       "2     27 rue du Colonel Pierre Avia       Paris      75508   France   \n",
       "3                78934 Hillside Dr.    Pasadena      90003      USA   \n",
       "4                 9408 Furth Circle  Burlingame      94217      USA   \n",
       "...                             ...         ...        ...      ...   \n",
       "2742             C/ Moralzarzal, 86      Madrid      28034    Spain   \n",
       "2743                    Torikatu 38        Oulu      90110  Finland   \n",
       "2744             C/ Moralzarzal, 86      Madrid      28034    Spain   \n",
       "2745          1 rue Alsace-Lorraine    Toulouse      31000   France   \n",
       "2746             8616 Spinnaker Dr.      Boston      51003      USA   \n",
       "\n",
       "     CONTACTLASTNAME CONTACTFIRSTNAME DEALSIZE     MONTH  YEAR        DAY  \n",
       "0                 Yu             Kwai    Small  February  2018   Saturday  \n",
       "1            Henriot             Paul    Small       May  2018     Monday  \n",
       "2           Da Cunha           Daniel   Medium      July  2018     Sunday  \n",
       "3              Young            Julie   Medium    August  2018   Saturday  \n",
       "4             Hirano             Juri   Medium   October  2018     Sunday  \n",
       "...              ...              ...      ...       ...   ...        ...  \n",
       "2742          Freyre            Diego    Small  December  2019     Monday  \n",
       "2743       Koskitalo           Pirkko   Medium   January  2020     Friday  \n",
       "2744          Freyre            Diego   Medium     March  2020     Sunday  \n",
       "2745          Roulet          Annette    Small     March  2020   Saturday  \n",
       "2746         Yoshido             Juri   Medium       May  2020  Wednesday  \n",
       "\n",
       "[2747 rows x 23 columns]"
      ]
     },
     "execution_count": 24,
     "metadata": {},
     "output_type": "execute_result"
    }
   ],
   "source": [
    "df"
   ]
  },
  {
   "cell_type": "code",
   "execution_count": 25,
   "id": "e26dc751",
   "metadata": {},
   "outputs": [
    {
     "data": {
      "text/plain": [
       "array([30, 34, 41, 45, 36, 29, 48, 37, 23, 28, 46, 42, 20, 21, 24, 66, 26,\n",
       "       38, 47, 35, 32, 40, 50, 39, 27, 22, 44, 31, 33, 49, 43, 56, 25, 64,\n",
       "       19, 12, 55, 10, 54, 97, 61, 51, 59, 76,  6, 15, 60, 65, 58, 16, 70,\n",
       "       13, 18, 52, 11, 62, 85, 77], dtype=int64)"
      ]
     },
     "execution_count": 25,
     "metadata": {},
     "output_type": "execute_result"
    }
   ],
   "source": [
    "df[\"QUANTITYORDERED\"].unique()"
   ]
  },
  {
   "cell_type": "code",
   "execution_count": 26,
   "id": "133beeea",
   "metadata": {},
   "outputs": [
    {
     "data": {
      "text/plain": [
       "26.88"
      ]
     },
     "execution_count": 26,
     "metadata": {},
     "output_type": "execute_result"
    }
   ],
   "source": [
    "df[\"PRICEEACH\"].min()"
   ]
  },
  {
   "cell_type": "code",
   "execution_count": 27,
   "id": "20dbe746",
   "metadata": {},
   "outputs": [
    {
     "data": {
      "text/plain": [
       "252.87"
      ]
     },
     "execution_count": 27,
     "metadata": {},
     "output_type": "execute_result"
    }
   ],
   "source": [
    "df[\"PRICEEACH\"].max()"
   ]
  },
  {
   "cell_type": "code",
   "execution_count": 29,
   "id": "97ce0463",
   "metadata": {},
   "outputs": [
    {
     "data": {
      "text/plain": [
       "array(['USA', 'France', 'Norway', 'Australia', 'Finland', 'Austria', 'UK',\n",
       "       'Spain', 'Sweden', 'Singapore', 'Canada', 'Japan', 'Italy',\n",
       "       'Denmark', 'Belgium', 'Philippines', 'Germany', 'Switzerland',\n",
       "       'Ireland'], dtype=object)"
      ]
     },
     "execution_count": 29,
     "metadata": {},
     "output_type": "execute_result"
    }
   ],
   "source": [
    "df[\"COUNTRY\"].unique()"
   ]
  },
  {
   "cell_type": "code",
   "execution_count": 37,
   "id": "f095a21c",
   "metadata": {},
   "outputs": [
    {
     "name": "stderr",
     "output_type": "stream",
     "text": [
      "C:\\Users\\User\\anaconda\\Lib\\site-packages\\seaborn\\_oldcore.py:1498: FutureWarning: is_categorical_dtype is deprecated and will be removed in a future version. Use isinstance(dtype, CategoricalDtype) instead\n",
      "  if pd.api.types.is_categorical_dtype(vector):\n",
      "C:\\Users\\User\\anaconda\\Lib\\site-packages\\seaborn\\_oldcore.py:1498: FutureWarning: is_categorical_dtype is deprecated and will be removed in a future version. Use isinstance(dtype, CategoricalDtype) instead\n",
      "  if pd.api.types.is_categorical_dtype(vector):\n",
      "C:\\Users\\User\\anaconda\\Lib\\site-packages\\seaborn\\_oldcore.py:1498: FutureWarning: is_categorical_dtype is deprecated and will be removed in a future version. Use isinstance(dtype, CategoricalDtype) instead\n",
      "  if pd.api.types.is_categorical_dtype(vector):\n"
     ]
    },
    {
     "data": {
      "image/png": "[encoded data removed]",
      "text/plain": [
       "<Figure size 1000x500 with 1 Axes>"
      ]
     },
     "metadata": {},
     "output_type": "display_data"
    }
   ],
   "source": [
    "plt.figure(figsize=(10,5))\n",
    "ax=sns.barplot(data=df,x=\"COUNTRY\",y=\"SALES\",errorbar=None)\n",
    "plt.xticks(rotation=90)\n",
    "for i in ax.containers:\n",
    "    ax.bar_label(i,rotation=90)\n",
    "plt.show()"
   ]
  },
  {
   "cell_type": "code",
   "execution_count": 52,
   "id": "55d91186",
   "metadata": {},
   "outputs": [],
   "source": [
    "df['YEAR'] = pd.to_datetime(df['YEAR'], format='%Y').dt.year"
   ]
  },
  {
   "cell_type": "code",
   "execution_count": 53,
   "id": "b929ee6f",
   "metadata": {},
   "outputs": [
    {
     "data": {
      "text/plain": [
       "dtype('int32')"
      ]
     },
     "execution_count": 53,
     "metadata": {},
     "output_type": "execute_result"
    }
   ],
   "source": [
    "df[\"YEAR\"].dtype"
   ]
  },
  {
   "cell_type": "code",
   "execution_count": 54,
   "id": "a9ec7461",
   "metadata": {},
   "outputs": [],
   "source": [
    "year_sales=df.groupby(\"YEAR\")[\"SALES\"].sum().reset_index(name=\"Total sales\")"
   ]
  },
  {
   "cell_type": "code",
   "execution_count": 55,
   "id": "57e7aa24",
   "metadata": {},
   "outputs": [
    {
     "data": {
      "text/html": [
       "<div>\n",
       "<style scoped>\n",
       "    .dataframe tbody tr th:only-of-type {\n",
       "        vertical-align: middle;\n",
       "    }\n",
       "\n",
       "    .dataframe tbody tr th {\n",
       "        vertical-align: top;\n",
       "    }\n",
       "\n",
       "    .dataframe thead th {\n",
       "        text-align: right;\n",
       "    }\n",
       "</style>\n",
       "<table border=\"1\" class=\"dataframe\">\n",
       "  <thead>\n",
       "    <tr style=\"text-align: right;\">\n",
       "      <th></th>\n",
       "      <th>YEAR</th>\n",
       "      <th>Total sales</th>\n",
       "    </tr>\n",
       "  </thead>\n",
       "  <tbody>\n",
       "    <tr>\n",
       "      <th>0</th>\n",
       "      <td>2018</td>\n",
       "      <td>3353014.06</td>\n",
       "    </tr>\n",
       "    <tr>\n",
       "      <th>1</th>\n",
       "      <td>2019</td>\n",
       "      <td>4669924.56</td>\n",
       "    </tr>\n",
       "    <tr>\n",
       "      <th>2</th>\n",
       "      <td>2020</td>\n",
       "      <td>1737283.09</td>\n",
       "    </tr>\n",
       "  </tbody>\n",
       "</table>\n",
       "</div>"
      ],
      "text/plain": [
       "   YEAR  Total sales\n",
       "0  2018   3353014.06\n",
       "1  2019   4669924.56\n",
       "2  2020   1737283.09"
      ]
     },
     "execution_count": 55,
     "metadata": {},
     "output_type": "execute_result"
    }
   ],
   "source": [
    "year_sales"
   ]
  },
  {
   "cell_type": "code",
   "execution_count": 57,
   "id": "1866521e",
   "metadata": {},
   "outputs": [
    {
     "name": "stderr",
     "output_type": "stream",
     "text": [
      "C:\\Users\\User\\anaconda\\Lib\\site-packages\\seaborn\\_oldcore.py:1498: FutureWarning: is_categorical_dtype is deprecated and will be removed in a future version. Use isinstance(dtype, CategoricalDtype) instead\n",
      "  if pd.api.types.is_categorical_dtype(vector):\n",
      "C:\\Users\\User\\anaconda\\Lib\\site-packages\\seaborn\\_oldcore.py:1498: FutureWarning: is_categorical_dtype is deprecated and will be removed in a future version. Use isinstance(dtype, CategoricalDtype) instead\n",
      "  if pd.api.types.is_categorical_dtype(vector):\n",
      "C:\\Users\\User\\anaconda\\Lib\\site-packages\\seaborn\\_oldcore.py:1498: FutureWarning: is_categorical_dtype is deprecated and will be removed in a future version. Use isinstance(dtype, CategoricalDtype) instead\n",
      "  if pd.api.types.is_categorical_dtype(vector):\n"
     ]
    },
    {
     "data": {
      "text/plain": [
       "<Axes: xlabel='YEAR', ylabel='Total sales'>"
      ]
     },
     "execution_count": 57,
     "metadata": {},
     "output_type": "execute_result"
    },
    {
     "data": {
      "image/png": "[encoded data removed]",
      "text/plain": [
       "<Figure size 640x480 with 1 Axes>"
      ]
     },
     "metadata": {},
     "output_type": "display_data"
    }
   ],
   "source": [
    "sns.barplot(data=year_sales,x=\"YEAR\",y=\"Total sales\")"
   ]
  },
  {
   "cell_type": "code",
   "execution_count": 59,
   "id": "c396f3f2",
   "metadata": {},
   "outputs": [],
   "source": [
    "day_sales=df.groupby(\"DAY\")[\"SALES\"].sum().reset_index(name=\"Total sales\")"
   ]
  },
  {
   "cell_type": "code",
   "execution_count": 60,
   "id": "0edd63a4",
   "metadata": {},
   "outputs": [
    {
     "data": {
      "text/html": [
       "<div>\n",
       "<style scoped>\n",
       "    .dataframe tbody tr th:only-of-type {\n",
       "        vertical-align: middle;\n",
       "    }\n",
       "\n",
       "    .dataframe tbody tr th {\n",
       "        vertical-align: top;\n",
       "    }\n",
       "\n",
       "    .dataframe thead th {\n",
       "        text-align: right;\n",
       "    }\n",
       "</style>\n",
       "<table border=\"1\" class=\"dataframe\">\n",
       "  <thead>\n",
       "    <tr style=\"text-align: right;\">\n",
       "      <th></th>\n",
       "      <th>DAY</th>\n",
       "      <th>Total sales</th>\n",
       "    </tr>\n",
       "  </thead>\n",
       "  <tbody>\n",
       "    <tr>\n",
       "      <th>0</th>\n",
       "      <td>Friday</td>\n",
       "      <td>1046541.96</td>\n",
       "    </tr>\n",
       "    <tr>\n",
       "      <th>1</th>\n",
       "      <td>Monday</td>\n",
       "      <td>1827922.60</td>\n",
       "    </tr>\n",
       "    <tr>\n",
       "      <th>2</th>\n",
       "      <td>Saturday</td>\n",
       "      <td>1288235.79</td>\n",
       "    </tr>\n",
       "    <tr>\n",
       "      <th>3</th>\n",
       "      <td>Sunday</td>\n",
       "      <td>2175121.48</td>\n",
       "    </tr>\n",
       "    <tr>\n",
       "      <th>4</th>\n",
       "      <td>Thursday</td>\n",
       "      <td>151979.05</td>\n",
       "    </tr>\n",
       "    <tr>\n",
       "      <th>5</th>\n",
       "      <td>Tuesday</td>\n",
       "      <td>1895468.79</td>\n",
       "    </tr>\n",
       "    <tr>\n",
       "      <th>6</th>\n",
       "      <td>Wednesday</td>\n",
       "      <td>1374952.04</td>\n",
       "    </tr>\n",
       "  </tbody>\n",
       "</table>\n",
       "</div>"
      ],
      "text/plain": [
       "         DAY  Total sales\n",
       "0     Friday   1046541.96\n",
       "1     Monday   1827922.60\n",
       "2   Saturday   1288235.79\n",
       "3     Sunday   2175121.48\n",
       "4   Thursday    151979.05\n",
       "5    Tuesday   1895468.79\n",
       "6  Wednesday   1374952.04"
      ]
     },
     "execution_count": 60,
     "metadata": {},
     "output_type": "execute_result"
    }
   ],
   "source": [
    "day_sales"
   ]
  },
  {
   "cell_type": "code",
   "execution_count": 61,
   "id": "79c046f2",
   "metadata": {},
   "outputs": [
    {
     "name": "stderr",
     "output_type": "stream",
     "text": [
      "C:\\Users\\User\\anaconda\\Lib\\site-packages\\seaborn\\_oldcore.py:1498: FutureWarning: is_categorical_dtype is deprecated and will be removed in a future version. Use isinstance(dtype, CategoricalDtype) instead\n",
      "  if pd.api.types.is_categorical_dtype(vector):\n",
      "C:\\Users\\User\\anaconda\\Lib\\site-packages\\seaborn\\_oldcore.py:1498: FutureWarning: is_categorical_dtype is deprecated and will be removed in a future version. Use isinstance(dtype, CategoricalDtype) instead\n",
      "  if pd.api.types.is_categorical_dtype(vector):\n",
      "C:\\Users\\User\\anaconda\\Lib\\site-packages\\seaborn\\_oldcore.py:1498: FutureWarning: is_categorical_dtype is deprecated and will be removed in a future version. Use isinstance(dtype, CategoricalDtype) instead\n",
      "  if pd.api.types.is_categorical_dtype(vector):\n"
     ]
    },
    {
     "data": {
      "text/plain": [
       "<Axes: xlabel='DAY', ylabel='Total sales'>"
      ]
     },
     "execution_count": 61,
     "metadata": {},
     "output_type": "execute_result"
    },
    {
     "data": {
      "image/png": "[encoded data removed]",
      "text/plain": [
       "<Figure size 640x480 with 1 Axes>"
      ]
     },
     "metadata": {},
     "output_type": "display_data"
    }
   ],
   "source": [
    "sns.barplot(data=day_sales,x=\"DAY\",y=\"Total sales\")"
   ]
  },
  {
   "cell_type": "code",
   "execution_count": 62,
   "id": "1950d6e9",
   "metadata": {},
   "outputs": [],
   "source": [
    "deal_sales=df.groupby(\"DEALSIZE\")[\"SALES\"].sum().reset_index(name=\"Total sales\")"
   ]
  },
  {
   "cell_type": "code",
   "execution_count": 63,
   "id": "4c98274f",
   "metadata": {},
   "outputs": [
    {
     "data": {
      "text/html": [
       "<div>\n",
       "<style scoped>\n",
       "    .dataframe tbody tr th:only-of-type {\n",
       "        vertical-align: middle;\n",
       "    }\n",
       "\n",
       "    .dataframe tbody tr th {\n",
       "        vertical-align: top;\n",
       "    }\n",
       "\n",
       "    .dataframe thead th {\n",
       "        text-align: right;\n",
       "    }\n",
       "</style>\n",
       "<table border=\"1\" class=\"dataframe\">\n",
       "  <thead>\n",
       "    <tr style=\"text-align: right;\">\n",
       "      <th></th>\n",
       "      <th>DEALSIZE</th>\n",
       "      <th>Total sales</th>\n",
       "    </tr>\n",
       "  </thead>\n",
       "  <tbody>\n",
       "    <tr>\n",
       "      <th>0</th>\n",
       "      <td>Large</td>\n",
       "      <td>1258956.40</td>\n",
       "    </tr>\n",
       "    <tr>\n",
       "      <th>1</th>\n",
       "      <td>Medium</td>\n",
       "      <td>5931231.47</td>\n",
       "    </tr>\n",
       "    <tr>\n",
       "      <th>2</th>\n",
       "      <td>Small</td>\n",
       "      <td>2570033.84</td>\n",
       "    </tr>\n",
       "  </tbody>\n",
       "</table>\n",
       "</div>"
      ],
      "text/plain": [
       "  DEALSIZE  Total sales\n",
       "0    Large   1258956.40\n",
       "1   Medium   5931231.47\n",
       "2    Small   2570033.84"
      ]
     },
     "execution_count": 63,
     "metadata": {},
     "output_type": "execute_result"
    }
   ],
   "source": [
    "deal_sales"
   ]
  },
  {
   "cell_type": "code",
   "execution_count": 64,
   "id": "ec7a8bc7",
   "metadata": {},
   "outputs": [
    {
     "name": "stderr",
     "output_type": "stream",
     "text": [
      "C:\\Users\\User\\anaconda\\Lib\\site-packages\\seaborn\\_oldcore.py:1498: FutureWarning: is_categorical_dtype is deprecated and will be removed in a future version. Use isinstance(dtype, CategoricalDtype) instead\n",
      "  if pd.api.types.is_categorical_dtype(vector):\n",
      "C:\\Users\\User\\anaconda\\Lib\\site-packages\\seaborn\\_oldcore.py:1498: FutureWarning: is_categorical_dtype is deprecated and will be removed in a future version. Use isinstance(dtype, CategoricalDtype) instead\n",
      "  if pd.api.types.is_categorical_dtype(vector):\n",
      "C:\\Users\\User\\anaconda\\Lib\\site-packages\\seaborn\\_oldcore.py:1498: FutureWarning: is_categorical_dtype is deprecated and will be removed in a future version. Use isinstance(dtype, CategoricalDtype) instead\n",
      "  if pd.api.types.is_categorical_dtype(vector):\n"
     ]
    },
    {
     "data": {
      "text/plain": [
       "<Axes: xlabel='DEALSIZE', ylabel='Total sales'>"
      ]
     },
     "execution_count": 64,
     "metadata": {},
     "output_type": "execute_result"
    },
    {
     "data": {
      "image/png": "[encoded data removed]",
      "text/plain": [
       "<Figure size 640x480 with 1 Axes>"
      ]
     },
     "metadata": {},
     "output_type": "display_data"
    }
   ],
   "source": [
    "sns.barplot(data=deal_sales,x=\"DEALSIZE\",y=\"Total sales\")"
   ]
  },
  {
   "cell_type": "code",
   "execution_count": 65,
   "id": "1268d0d4",
   "metadata": {},
   "outputs": [],
   "source": [
    "month_sales=df.groupby(\"MONTH\")[\"SALES\"].sum().reset_index(name=\"Total sales\")"
   ]
  },
  {
   "cell_type": "code",
   "execution_count": 67,
   "id": "f1fd9a91",
   "metadata": {},
   "outputs": [
    {
     "data": {
      "text/html": [
       "<div>\n",
       "<style scoped>\n",
       "    .dataframe tbody tr th:only-of-type {\n",
       "        vertical-align: middle;\n",
       "    }\n",
       "\n",
       "    .dataframe tbody tr th {\n",
       "        vertical-align: top;\n",
       "    }\n",
       "\n",
       "    .dataframe thead th {\n",
       "        text-align: right;\n",
       "    }\n",
       "</style>\n",
       "<table border=\"1\" class=\"dataframe\">\n",
       "  <thead>\n",
       "    <tr style=\"text-align: right;\">\n",
       "      <th></th>\n",
       "      <th>MONTH</th>\n",
       "      <th>Total sales</th>\n",
       "    </tr>\n",
       "  </thead>\n",
       "  <tbody>\n",
       "    <tr>\n",
       "      <th>9</th>\n",
       "      <td>November</td>\n",
       "      <td>2088536.95</td>\n",
       "    </tr>\n",
       "    <tr>\n",
       "      <th>10</th>\n",
       "      <td>October</td>\n",
       "      <td>1001377.20</td>\n",
       "    </tr>\n",
       "    <tr>\n",
       "      <th>8</th>\n",
       "      <td>May</td>\n",
       "      <td>923972.56</td>\n",
       "    </tr>\n",
       "    <tr>\n",
       "      <th>4</th>\n",
       "      <td>January</td>\n",
       "      <td>761985.12</td>\n",
       "    </tr>\n",
       "    <tr>\n",
       "      <th>3</th>\n",
       "      <td>February</td>\n",
       "      <td>756238.28</td>\n",
       "    </tr>\n",
       "    <tr>\n",
       "      <th>7</th>\n",
       "      <td>March</td>\n",
       "      <td>735805.81</td>\n",
       "    </tr>\n",
       "    <tr>\n",
       "      <th>0</th>\n",
       "      <td>April</td>\n",
       "      <td>669390.96</td>\n",
       "    </tr>\n",
       "    <tr>\n",
       "      <th>1</th>\n",
       "      <td>August</td>\n",
       "      <td>659310.57</td>\n",
       "    </tr>\n",
       "    <tr>\n",
       "      <th>2</th>\n",
       "      <td>December</td>\n",
       "      <td>609247.24</td>\n",
       "    </tr>\n",
       "    <tr>\n",
       "      <th>11</th>\n",
       "      <td>September</td>\n",
       "      <td>584724.27</td>\n",
       "    </tr>\n",
       "    <tr>\n",
       "      <th>5</th>\n",
       "      <td>July</td>\n",
       "      <td>514875.97</td>\n",
       "    </tr>\n",
       "    <tr>\n",
       "      <th>6</th>\n",
       "      <td>June</td>\n",
       "      <td>454756.78</td>\n",
       "    </tr>\n",
       "  </tbody>\n",
       "</table>\n",
       "</div>"
      ],
      "text/plain": [
       "        MONTH  Total sales\n",
       "9    November   2088536.95\n",
       "10    October   1001377.20\n",
       "8         May    923972.56\n",
       "4     January    761985.12\n",
       "3    February    756238.28\n",
       "7       March    735805.81\n",
       "0       April    669390.96\n",
       "1      August    659310.57\n",
       "2    December    609247.24\n",
       "11  September    584724.27\n",
       "5        July    514875.97\n",
       "6        June    454756.78"
      ]
     },
     "execution_count": 67,
     "metadata": {},
     "output_type": "execute_result"
    }
   ],
   "source": [
    "month_sales=month_sales.sort_values(by='Total sales', ascending=False)\n",
    "month_sales"
   ]
  },
  {
   "cell_type": "code",
   "execution_count": 69,
   "id": "0abe642d",
   "metadata": {},
   "outputs": [
    {
     "name": "stderr",
     "output_type": "stream",
     "text": [
      "C:\\Users\\User\\anaconda\\Lib\\site-packages\\seaborn\\_oldcore.py:1498: FutureWarning: is_categorical_dtype is deprecated and will be removed in a future version. Use isinstance(dtype, CategoricalDtype) instead\n",
      "  if pd.api.types.is_categorical_dtype(vector):\n",
      "C:\\Users\\User\\anaconda\\Lib\\site-packages\\seaborn\\_oldcore.py:1498: FutureWarning: is_categorical_dtype is deprecated and will be removed in a future version. Use isinstance(dtype, CategoricalDtype) instead\n",
      "  if pd.api.types.is_categorical_dtype(vector):\n",
      "C:\\Users\\User\\anaconda\\Lib\\site-packages\\seaborn\\_oldcore.py:1498: FutureWarning: is_categorical_dtype is deprecated and will be removed in a future version. Use isinstance(dtype, CategoricalDtype) instead\n",
      "  if pd.api.types.is_categorical_dtype(vector):\n"
     ]
    },
    {
     "data": {
      "image/png": "[encoded data removed]",
      "text/plain": [
       "<Figure size 1000x400 with 1 Axes>"
      ]
     },
     "metadata": {},
     "output_type": "display_data"
    }
   ],
   "source": [
    "plt.figure(figsize=(10,4))\n",
    "sns.barplot(data=month_sales,x=\"MONTH\",y=\"Total sales\")\n",
    "plt.xticks(rotation=90)\n",
    "plt.show()"
   ]
  },
  {
   "cell_type": "code",
   "execution_count": 70,
   "id": "d48f4cdd",
   "metadata": {},
   "outputs": [
    {
     "data": {
      "text/plain": [
       "array(['Motorcycles', 'Classic Cars', 'Trucks and Buses', 'Vintage Cars',\n",
       "       'Planes', 'Ships', 'Trains'], dtype=object)"
      ]
     },
     "execution_count": 70,
     "metadata": {},
     "output_type": "execute_result"
    }
   ],
   "source": [
    "df[\"PRODUCTLINE\"].unique()"
   ]
  },
  {
   "cell_type": "code",
   "execution_count": 76,
   "id": "292e5302",
   "metadata": {},
   "outputs": [
    {
     "data": {
      "text/html": [
       "<div>\n",
       "<style scoped>\n",
       "    .dataframe tbody tr th:only-of-type {\n",
       "        vertical-align: middle;\n",
       "    }\n",
       "\n",
       "    .dataframe tbody tr th {\n",
       "        vertical-align: top;\n",
       "    }\n",
       "\n",
       "    .dataframe thead th {\n",
       "        text-align: right;\n",
       "    }\n",
       "</style>\n",
       "<table border=\"1\" class=\"dataframe\">\n",
       "  <thead>\n",
       "    <tr style=\"text-align: right;\">\n",
       "      <th></th>\n",
       "      <th>PRODUCTLINE</th>\n",
       "      <th>Total sales</th>\n",
       "    </tr>\n",
       "  </thead>\n",
       "  <tbody>\n",
       "    <tr>\n",
       "      <th>0</th>\n",
       "      <td>Classic Cars</td>\n",
       "      <td>3842868.54</td>\n",
       "    </tr>\n",
       "    <tr>\n",
       "      <th>6</th>\n",
       "      <td>Vintage Cars</td>\n",
       "      <td>1806675.68</td>\n",
       "    </tr>\n",
       "    <tr>\n",
       "      <th>5</th>\n",
       "      <td>Trucks and Buses</td>\n",
       "      <td>1111559.19</td>\n",
       "    </tr>\n",
       "    <tr>\n",
       "      <th>1</th>\n",
       "      <td>Motorcycles</td>\n",
       "      <td>1103512.19</td>\n",
       "    </tr>\n",
       "    <tr>\n",
       "      <th>2</th>\n",
       "      <td>Planes</td>\n",
       "      <td>969323.42</td>\n",
       "    </tr>\n",
       "    <tr>\n",
       "      <th>3</th>\n",
       "      <td>Ships</td>\n",
       "      <td>700039.22</td>\n",
       "    </tr>\n",
       "    <tr>\n",
       "      <th>4</th>\n",
       "      <td>Trains</td>\n",
       "      <td>226243.47</td>\n",
       "    </tr>\n",
       "  </tbody>\n",
       "</table>\n",
       "</div>"
      ],
      "text/plain": [
       "        PRODUCTLINE  Total sales\n",
       "0      Classic Cars   3842868.54\n",
       "6      Vintage Cars   1806675.68\n",
       "5  Trucks and Buses   1111559.19\n",
       "1       Motorcycles   1103512.19\n",
       "2            Planes    969323.42\n",
       "3             Ships    700039.22\n",
       "4            Trains    226243.47"
      ]
     },
     "execution_count": 76,
     "metadata": {},
     "output_type": "execute_result"
    }
   ],
   "source": [
    "product_sales=df.groupby(\"PRODUCTLINE\")[\"SALES\"].sum().reset_index(name=\"Total sales\")\n",
    "product_sales=product_sales.sort_values(by='Total sales', ascending=False)\n",
    "product_sales"
   ]
  },
  {
   "cell_type": "code",
   "execution_count": 77,
   "id": "09a05a94",
   "metadata": {},
   "outputs": [
    {
     "name": "stderr",
     "output_type": "stream",
     "text": [
      "C:\\Users\\User\\anaconda\\Lib\\site-packages\\seaborn\\_oldcore.py:1498: FutureWarning: is_categorical_dtype is deprecated and will be removed in a future version. Use isinstance(dtype, CategoricalDtype) instead\n",
      "  if pd.api.types.is_categorical_dtype(vector):\n",
      "C:\\Users\\User\\anaconda\\Lib\\site-packages\\seaborn\\_oldcore.py:1498: FutureWarning: is_categorical_dtype is deprecated and will be removed in a future version. Use isinstance(dtype, CategoricalDtype) instead\n",
      "  if pd.api.types.is_categorical_dtype(vector):\n",
      "C:\\Users\\User\\anaconda\\Lib\\site-packages\\seaborn\\_oldcore.py:1498: FutureWarning: is_categorical_dtype is deprecated and will be removed in a future version. Use isinstance(dtype, CategoricalDtype) instead\n",
      "  if pd.api.types.is_categorical_dtype(vector):\n"
     ]
    },
    {
     "data": {
      "image/png": "[encoded data removed]",
      "text/plain": [
       "<Figure size 1000x400 with 1 Axes>"
      ]
     },
     "metadata": {},
     "output_type": "display_data"
    }
   ],
   "source": [
    "plt.figure(figsize=(10,4))\n",
    "sns.barplot(data=product_sales,x=\"PRODUCTLINE\",y=\"Total sales\")\n",
    "plt.xticks(rotation=90)\n",
    "plt.show()"
   ]
  },
  {
   "cell_type": "code",
   "execution_count": 81,
   "id": "32a97fba",
   "metadata": {},
   "outputs": [
    {
     "data": {
      "text/html": [
       "<div>\n",
       "<style scoped>\n",
       "    .dataframe tbody tr th:only-of-type {\n",
       "        vertical-align: middle;\n",
       "    }\n",
       "\n",
       "    .dataframe tbody tr th {\n",
       "        vertical-align: top;\n",
       "    }\n",
       "\n",
       "    .dataframe thead th {\n",
       "        text-align: right;\n",
       "    }\n",
       "</style>\n",
       "<table border=\"1\" class=\"dataframe\">\n",
       "  <thead>\n",
       "    <tr style=\"text-align: right;\">\n",
       "      <th></th>\n",
       "      <th>PRODUCTLINE</th>\n",
       "      <th>Avg last ordered</th>\n",
       "    </tr>\n",
       "  </thead>\n",
       "  <tbody>\n",
       "    <tr>\n",
       "      <th>3</th>\n",
       "      <td>Ships</td>\n",
       "      <td>2655.708696</td>\n",
       "    </tr>\n",
       "    <tr>\n",
       "      <th>2</th>\n",
       "      <td>Planes</td>\n",
       "      <td>2369.450658</td>\n",
       "    </tr>\n",
       "    <tr>\n",
       "      <th>4</th>\n",
       "      <td>Trains</td>\n",
       "      <td>2261.818182</td>\n",
       "    </tr>\n",
       "    <tr>\n",
       "      <th>5</th>\n",
       "      <td>Trucks and Buses</td>\n",
       "      <td>1681.281356</td>\n",
       "    </tr>\n",
       "    <tr>\n",
       "      <th>6</th>\n",
       "      <td>Vintage Cars</td>\n",
       "      <td>1665.003454</td>\n",
       "    </tr>\n",
       "    <tr>\n",
       "      <th>1</th>\n",
       "      <td>Motorcycles</td>\n",
       "      <td>1587.092652</td>\n",
       "    </tr>\n",
       "    <tr>\n",
       "      <th>0</th>\n",
       "      <td>Classic Cars</td>\n",
       "      <td>1437.991570</td>\n",
       "    </tr>\n",
       "  </tbody>\n",
       "</table>\n",
       "</div>"
      ],
      "text/plain": [
       "        PRODUCTLINE  Avg last ordered\n",
       "3             Ships       2655.708696\n",
       "2            Planes       2369.450658\n",
       "4            Trains       2261.818182\n",
       "5  Trucks and Buses       1681.281356\n",
       "6      Vintage Cars       1665.003454\n",
       "1       Motorcycles       1587.092652\n",
       "0      Classic Cars       1437.991570"
      ]
     },
     "execution_count": 81,
     "metadata": {},
     "output_type": "execute_result"
    }
   ],
   "source": [
    "product_status=df.groupby(\"PRODUCTLINE\")[\"DAYS_SINCE_LASTORDER\"].mean().reset_index(name=\"Avg last ordered\")\n",
    "product_status=product_status.sort_values(by='Avg last ordered', ascending=False)\n",
    "product_status"
   ]
  },
  {
   "cell_type": "code",
   "execution_count": 83,
   "id": "1c7dee7f",
   "metadata": {},
   "outputs": [
    {
     "name": "stderr",
     "output_type": "stream",
     "text": [
      "C:\\Users\\User\\anaconda\\Lib\\site-packages\\seaborn\\_oldcore.py:1498: FutureWarning: is_categorical_dtype is deprecated and will be removed in a future version. Use isinstance(dtype, CategoricalDtype) instead\n",
      "  if pd.api.types.is_categorical_dtype(vector):\n",
      "C:\\Users\\User\\anaconda\\Lib\\site-packages\\seaborn\\_oldcore.py:1498: FutureWarning: is_categorical_dtype is deprecated and will be removed in a future version. Use isinstance(dtype, CategoricalDtype) instead\n",
      "  if pd.api.types.is_categorical_dtype(vector):\n",
      "C:\\Users\\User\\anaconda\\Lib\\site-packages\\seaborn\\_oldcore.py:1498: FutureWarning: is_categorical_dtype is deprecated and will be removed in a future version. Use isinstance(dtype, CategoricalDtype) instead\n",
      "  if pd.api.types.is_categorical_dtype(vector):\n"
     ]
    },
    {
     "data": {
      "image/png": "[encoded data removed]",
      "text/plain": [
       "<Figure size 1000x500 with 1 Axes>"
      ]
     },
     "metadata": {},
     "output_type": "display_data"
    }
   ],
   "source": [
    "plt.figure(figsize=(10,5))\n",
    "sns.barplot(data=product_status,x=\"PRODUCTLINE\",y=\"Avg last ordered\")\n",
    "plt.xticks(rotation=90)\n",
    "plt.show()"
   ]
  },
  {
   "cell_type": "code",
   "execution_count": 84,
   "id": "52c7d3bf",
   "metadata": {},
   "outputs": [],
   "source": [
    "df.to_excel(\"Auto sales cleaned.xlsx\")"
   ]
  },
  {
   "cell_type": "code",
   "execution_count": null,
   "id": "98433f60",
   "metadata": {},
   "outputs": [],
   "source": []
  }
 ],
 "metadata": {
  "kernelspec": {
   "display_name": "Python 3 (ipykernel)",
   "language": "python",
   "name": "python3"
  },
  "language_info": {
   "codemirror_mode": {
    "name": "ipython",
    "version": 3
   },
   "file_extension": ".py",
   "mimetype": "text/x-python",
   "name": "python",
   "nbconvert_exporter": "python",
   "pygments_lexer": "ipython3",
   "version": "3.11.4"
  }
 },
 "nbformat": 4,
 "nbformat_minor": 5
}
